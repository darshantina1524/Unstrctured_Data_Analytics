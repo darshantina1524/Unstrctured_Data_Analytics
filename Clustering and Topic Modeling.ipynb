{
 "cells": [
  {
   "cell_type": "markdown",
   "metadata": {},
   "source": [
    "# Clustering and Topic Models "
   ]
  },
  {
   "cell_type": "markdown",
   "metadata": {},
   "source": [
    "Name: Darshan Rajesh Tina\n",
    "\n",
    "Andrew ID: dtina"
   ]
  },
  {
   "cell_type": "markdown",
   "metadata": {},
   "source": [
    "## Clustering emails using Gaussian Mixture Models "
   ]
  },
  {
   "cell_type": "markdown",
   "metadata": {},
   "source": [
    "For this problem, we will be analyzing emails taken from the [Enron Email Dataset](https://www.cs.cmu.edu/~enron/). Data is provided in the `enron` data directory, with one file per email. The data set includes a combination of \"spam\" and \"ham\" emails. Spam emails are unsolicited messages intended to sell a product or scam users into providing personal information, while ham emails represent everything that is not spam. \n",
    "\n",
    "The language used in spam emails tends to be considerably different from typical business emails. Most spam filters leverage this difference in word frequencies to detect spam as it arrives and filter it out of email inboxes. We will use Gaussian Mixture Models (GMMs) to cluster the emails and attempt to identify groups of emails which are likely to be spam."
   ]
  },
  {
   "cell_type": "markdown",
   "metadata": {},
   "source": [
    "### Part A: Construct a list of processed documents "
   ]
  },
  {
   "cell_type": "markdown",
   "metadata": {},
   "source": [
    "Provided below is a function that returns a document present in a file given a filename. The function performs some preprocessing to (1) remove punctuation, (2),(3) remove whitespace and (4) lowercase all words. Using the makeWordList function, construct a list of processed documents."
   ]
  },
  {
   "cell_type": "code",
   "execution_count": 121,
   "metadata": {},
   "outputs": [],
   "source": [
    "import re\n",
    "import string\n",
    "import codecs\n",
    "\n",
    "def makeWordList(path):\n",
    "    \n",
    "    with codecs.open(path, \"r\", encoding='utf-8', errors='ignore') as f:\n",
    "        corpus_text = f.read()\n",
    "\n",
    "    for c in string.punctuation:\n",
    "        corpus_text = corpus_text.replace(c, \"\")  # -- (1)\n",
    "    \n",
    "    text = re.sub(r'\\S*\\d\\S*', '', corpus_text) # -- (2)\n",
    "    text = re.sub(r'[^\\w\\s]', '', text)         # -- (3)\n",
    "    \n",
    "    text = text.lower().split()           # -- (4)         \n",
    "    \n",
    "    li = []\n",
    "    for token in text:\n",
    "        li.append(token)\n",
    "\n",
    "    return \" \".join(li)"
   ]
  },
  {
   "cell_type": "code",
   "execution_count": 122,
   "metadata": {},
   "outputs": [],
   "source": [
    "import glob\n",
    "document_list = glob.glob('./data/enron/*.txt')#accessing all files with extension .txt\n",
    "contentlist = []\n",
    "for i in document_list:\n",
    "    contentlist.append(makeWordList(i))"
   ]
  },
  {
   "cell_type": "code",
   "execution_count": 123,
   "metadata": {},
   "outputs": [
    {
     "data": {
      "text/plain": [
       "5171"
      ]
     },
     "execution_count": 123,
     "metadata": {},
     "output_type": "execute_result"
    }
   ],
   "source": [
    "# Printing out the length\n",
    "len(contentlist)"
   ]
  },
  {
   "cell_type": "markdown",
   "metadata": {},
   "source": [
    "### Part B: Construct a document matrix "
   ]
  },
  {
   "cell_type": "markdown",
   "metadata": {},
   "source": [
    "Next, construct a document matrix `X` as a matrix of [TF-IDF](https://en.wikipedia.org/wiki/Tf%E2%80%93idf) features for each document. TF-IDF features encode information about the word frequency within a document, weighted by the frequency of the same word for corpus as a whole.\n",
    "\n",
    "   - Use the `TfidfVectorizer` from [scikit-learn](http://scikit-learn.org/stable/modules/generated/sklearn.feature_extraction.text.TfidfVectorizer.html) to create the document matrix `X`.\n",
    "   - Set `min_df=50`; this drops words that don't occur in at least 50 documents.\n",
    "   - Set `stop_words=\"english\"` and `max_df=0.8` to filter out stop-words.\n",
    "   - Print the number of unique words in the vocabulary Hint: Look for the `vocabulary_` attribute in the `TfidfVectorizer` object after fitting the vectorizer to the data set. The vocabulary will also be needed in part (d)."
   ]
  },
  {
   "cell_type": "code",
   "execution_count": 124,
   "metadata": {},
   "outputs": [],
   "source": [
    "from sklearn.feature_extraction.text import TfidfVectorizer"
   ]
  },
  {
   "cell_type": "code",
   "execution_count": 125,
   "metadata": {},
   "outputs": [],
   "source": [
    "vectorizer = TfidfVectorizer(min_df=50,stop_words=\"english\",max_df=0.8)"
   ]
  },
  {
   "cell_type": "code",
   "execution_count": 126,
   "metadata": {},
   "outputs": [],
   "source": [
    "#Creating document matrix X\n",
    "X = vectorizer.fit_transform(contentlist)"
   ]
  },
  {
   "cell_type": "code",
   "execution_count": 127,
   "metadata": {},
   "outputs": [
    {
     "name": "stdout",
     "output_type": "stream",
     "text": [
      "The number of unique words in the vocabulary is 1680\n",
      "Confirmed length  1680\n"
     ]
    }
   ],
   "source": [
    "vocab = vectorizer.vocabulary_\n",
    "print('The number of unique words in the vocabulary is',len(vocab))\n",
    "# To ensure it is unique \n",
    "print('Confirmed length ',len(set(vocab)))"
   ]
  },
  {
   "cell_type": "markdown",
   "metadata": {},
   "source": [
    "### Part C: Perform Clustering "
   ]
  },
  {
   "cell_type": "markdown",
   "metadata": {},
   "source": [
    "Perform clustering on the document matrix X using GMMs. \n",
    "- Use the `GaussianMixture` module from [scikit-learn](http://scikit-learn.org/stable/modules/generated/sklearn.mixture.GaussianMixture.html) to cluster the documents.\n",
    "- Set the number of clusters (mixture components) to 3.\n",
    "- Print the number of documents assigned to each cluster."
   ]
  },
  {
   "cell_type": "code",
   "execution_count": 128,
   "metadata": {},
   "outputs": [],
   "source": [
    "from sklearn.mixture import GaussianMixture\n",
    " \n",
    "gmm = GaussianMixture(n_components=3,random_state=0)\n",
    "test = gmm.fit(X.toarray())"
   ]
  },
  {
   "cell_type": "code",
   "execution_count": 129,
   "metadata": {},
   "outputs": [
    {
     "data": {
      "text/plain": [
       "array([[0.009055  , 0.00194961, 0.00632647, ..., 0.00609533, 0.00270307,\n",
       "        0.00457327],\n",
       "       [0.00026757, 0.00135847, 0.00354344, ..., 0.00021224, 0.00109585,\n",
       "        0.0011375 ],\n",
       "       [0.00148353, 0.00207922, 0.0042846 , ..., 0.0020467 , 0.0012032 ,\n",
       "        0.00129205]])"
      ]
     },
     "execution_count": 129,
     "metadata": {},
     "output_type": "execute_result"
    }
   ],
   "source": [
    "#Means\n",
    "gmm.means_"
   ]
  },
  {
   "cell_type": "code",
   "execution_count": 130,
   "metadata": {},
   "outputs": [],
   "source": [
    "# Number of documents attached to each cluster\n",
    "gmm_clustere_assignments = gmm.predict(X.toarray())\n",
    "test_result = X.toarray()[gmm_clustere_assignments==1].mean(axis=1)\n",
    "test_result_zero = X.toarray()[gmm_clustere_assignments==0].mean(axis=1)\n",
    "test_result_two = X.toarray()[gmm_clustere_assignments==2].mean(axis=1)\n"
   ]
  },
  {
   "cell_type": "code",
   "execution_count": 131,
   "metadata": {},
   "outputs": [
    {
     "name": "stdout",
     "output_type": "stream",
     "text": [
      "Length of cluster 0 is 363\n",
      "Length of cluster 1 is 1786\n",
      "Length of cluster 2 is 3022\n"
     ]
    }
   ],
   "source": [
    "#Printing the length of documents assigned to each cluster\n",
    "print('Length of cluster 0 is',len(test_result_zero))\n",
    "print('Length of cluster 1 is',len(test_result))\n",
    "print('Length of cluster 2 is',len(test_result_two))"
   ]
  },
  {
   "cell_type": "code",
   "execution_count": null,
   "metadata": {},
   "outputs": [],
   "source": []
  },
  {
   "cell_type": "code",
   "execution_count": 132,
   "metadata": {},
   "outputs": [
    {
     "data": {
      "text/plain": [
       "array([0.07019919, 0.34538774, 0.58441307])"
      ]
     },
     "execution_count": 132,
     "metadata": {},
     "output_type": "execute_result"
    }
   ],
   "source": [
    "#Checking the weights associated with each cluster\n",
    "gmm.weights_"
   ]
  },
  {
   "cell_type": "code",
   "execution_count": 133,
   "metadata": {},
   "outputs": [],
   "source": [
    "#len(X.toarray()[gmm_clustere_assignments==1])"
   ]
  },
  {
   "cell_type": "markdown",
   "metadata": {},
   "source": [
    "### Part D: Characterize the clusters"
   ]
  },
  {
   "cell_type": "markdown",
   "metadata": {},
   "source": [
    "Now, we will attempt to characterize the clusters based on the frequency of spam-relevant words. \n",
    "- Select 3 \"spammy\" words from the vocabulary that you expect to occur frequently in spam emails and less frequently in normal business emails (e.g., 'click', 'www', 'offer'). Construct a list, `spam_indices`, storing the indices of the spammy words you selected in the vocabulary generated by `TfidfVectorizer`.\n",
    "- Select 3 \"hammy\" words from the vocabulary you think will occur frequently in business emails and infrequently in spam emails (e.g., 'meeting', 'attached', 'review'). Construct a list, `ham_indices`, storing the indices of the hammy words you selected in the vocabulary generated by `TfidfVectorizer`.\n",
    "- Use the function provided below, `plot_spam_words_by_cluster`, to plot the average TF-IDF features for your selected spammy words and hammy words for each cluster. The function takes four parameters:\n",
    "    - `predicted` is predicted cluster assignments returned by `GaussianMixture.predict()`\n",
    "    - `n_clusters` is the number of clusters. This should match the number of clusters from your GMM.\n",
    "    - `spam_indices` is a list of indices of spammy words in the vocabulary.\n",
    "    - `ham_indices` is a list of indices of hammy (typical business) words in the vocabulary."
   ]
  },
  {
   "cell_type": "code",
   "execution_count": 134,
   "metadata": {},
   "outputs": [],
   "source": [
    "def plot_spam_words_by_cluster(predicted, n_clusters, spam_indices, ham_indices):\n",
    "    import numpy as np\n",
    "    import matplotlib.pyplot as plt\n",
    "    \n",
    "    # Calculate mean TF-IDF features for each cluster\n",
    "    mean_tfidf_spam = []\n",
    "    mean_tfidf_ham = []\n",
    "    for spam in spam_indices:\n",
    "        mean_tfidf_spam.append([])\n",
    "    for ham in ham_indices:\n",
    "        mean_tfidf_ham.append([])\n",
    "    \n",
    "    for i in range(n_clusters):\n",
    "        for j, spam_idx in enumerate(spam_indices):\n",
    "            mean_tfidf_spam[j].append(X[predicted==i, spam_idx].mean())\n",
    "        for j, ham_idx in enumerate(ham_indices):\n",
    "            mean_tfidf_ham[j].append(X[predicted==i, ham_idx].mean())\n",
    "    \n",
    "    # Generate plot\n",
    "    fig, ax = plt.subplots()\n",
    "\n",
    "    ind = np.arange(n_clusters)    # the x locations for the groups\n",
    "    width = 0.10         # the width of the bars\n",
    "\n",
    "    # Plot spam bars\n",
    "    for i, val in enumerate(mean_tfidf_spam):\n",
    "        spam_bar = ax.bar(ind - (len(mean_tfidf_spam)-i-1)*width, val, width, color='r', bottom=0)\n",
    "\n",
    "    # Plot ham bars\n",
    "    for i, val in enumerate(mean_tfidf_ham):\n",
    "        ham_bar = ax.bar(ind + (len(mean_tfidf_ham)-i)*width, val, width,\n",
    "                color='y', bottom=0)\n",
    "\n",
    "    ax.set_title('Mean TF-IDF Features by Cluster for Spam-Relevant Words')\n",
    "    ax.set_xticks(ind + width / 2)\n",
    "    xticklabels = []\n",
    "    for i in range(n_clusters):\n",
    "        xticklabels.append('Cluster ' + str(i) + '\\n(n=' + str((predicted==i).sum()) + ')')\n",
    "    ax.set_xticklabels(xticklabels)\n",
    "\n",
    "    ax.legend((spam_bar[0], ham_bar[0]), ('Spammy words', 'Hammy words'))\n",
    "    ax.autoscale_view()\n",
    "    ax.set_ylabel('Mean TF-IDF')\n",
    "    plt.show()"
   ]
  },
  {
   "cell_type": "code",
   "execution_count": null,
   "metadata": {},
   "outputs": [],
   "source": []
  },
  {
   "cell_type": "code",
   "execution_count": 135,
   "metadata": {},
   "outputs": [
    {
     "data": {
      "image/png": "[encoded data removed]",
      "text/plain": [
       "<Figure size 432x288 with 1 Axes>"
      ]
     },
     "metadata": {
      "needs_background": "light"
     },
     "output_type": "display_data"
    }
   ],
   "source": [
    "#Creating spam and ham indices\n",
    "spam_indices=[]\n",
    "spam_indices.append(vocab.get('click'))\n",
    "spam_indices.append(vocab.get('www'))\n",
    "spam_indices.append(vocab.get('offer'))\n",
    "ham_indices = []\n",
    "ham_indices.append(vocab.get('meeting'))\n",
    "ham_indices.append(vocab.get('attached'))\n",
    "ham_indices.append(vocab.get('review'))\n",
    "#Using the given function to plot the distribution of spam and ham words in the documents\n",
    "plot_spam_words_by_cluster(gmm_clustere_assignments,3,spam_indices,ham_indices)"
   ]
  },
  {
   "cell_type": "markdown",
   "metadata": {},
   "source": [
    "### Part E: Interpret results [10 points]"
   ]
  },
  {
   "cell_type": "markdown",
   "metadata": {},
   "source": [
    "**Based on the above observation:**\n",
    "(The analysis maybe different for every time the code in the above cells are run)\n",
    "\n",
    "\n",
    "Cluster 0 - Mainly corresponds to typical business emails (Ham words)\n",
    "Cluster 1 - Mainly corresponds to typical spam emails (spammy words) \n",
    "CLuster 2 - A distribution between spam and ham is approximately the same\n"
   ]
  },
  {
   "cell_type": "code",
   "execution_count": 136,
   "metadata": {},
   "outputs": [
    {
     "data": {
      "text/plain": [
       "<Figure size 720x576 with 0 Axes>"
      ]
     },
     "metadata": {},
     "output_type": "display_data"
    },
    {
     "data": {
      "image/png": "[encoded data removed]",
      "text/plain": [
       "<Figure size 432x288 with 1 Axes>"
      ]
     },
     "metadata": {
      "needs_background": "light"
     },
     "output_type": "display_data"
    }
   ],
   "source": [
    "#Chaning the # of cluster and plotting the distribution for analysis\n",
    "plt.figure(figsize=(10,8))\n",
    "gmm = GaussianMixture(n_components=5,random_state=0)\n",
    "test = gmm.fit(X.toarray())\n",
    "gmm_clustere_assignments = gmm.predict(X.toarray())\n",
    "plot_spam_words_by_cluster(gmm_clustere_assignments,5,spam_indices,ham_indices)"
   ]
  },
  {
   "cell_type": "markdown",
   "metadata": {},
   "source": [
    "#### Increase in the number of clusters have given a better and a much more clear representation between the business and the spam email in each cluster\n",
    "Here,\n",
    "Cluster 0 - Mainly corresponds to Business emails \n",
    "\n",
    "Cluster 1 - Mainly corresponds to Spam emails\n",
    "\n",
    "Cluster 2 - Corresponds to Spam emails\n",
    "\n",
    "Cluster 3 - Mainly corresponds to Spam emails\n",
    "\n",
    "Cluster 4 - Mainly corresponds to Businessemails"
   ]
  },
  {
   "cell_type": "markdown",
   "metadata": {},
   "source": [
    "### Choice of k = 5 gives us better results than when k = 3"
   ]
  },
  {
   "cell_type": "markdown",
   "metadata": {},
   "source": [
    "## Question 2: Latent \"Purposes\" in Mobile Apps\n",
    "\n",
    "\n",
    "Thinking of Android applications as \"documents\", where \"words\" are the \"permissions\" that each app requests. Each app has a set of latent \"purposes\" (topics); a \"purpose\" may be a specific task (such as taking photographs and uploading them to the internet), and an application may have a mixture of purposes of varying strength.\n",
    "\n",
    "Can we uncover these purposes from a dataset of Android applications and the permissions they request?"
   ]
  },
  {
   "cell_type": "code",
   "execution_count": 137,
   "metadata": {},
   "outputs": [],
   "source": [
    "import numpy as np\n",
    "import matplotlib.pyplot as plt\n",
    "import pandas as pd\n",
    "%matplotlib inline"
   ]
  },
  {
   "cell_type": "markdown",
   "metadata": {},
   "source": [
    "### Part A: Load the data "
   ]
  },
  {
   "cell_type": "code",
   "execution_count": 138,
   "metadata": {},
   "outputs": [],
   "source": [
    "df = pd.read_csv(\"android.csv\", sep=\",\",  thousands=\",\")"
   ]
  },
  {
   "cell_type": "code",
   "execution_count": 139,
   "metadata": {},
   "outputs": [],
   "source": [
    "df[\"Number of ratings\"] = df[\"Number of ratings\"].astype(int) # fix data type\n",
    "df = df.drop_duplicates(subset=[\"App\"]).reset_index(drop=True)"
   ]
  },
  {
   "cell_type": "code",
   "execution_count": 140,
   "metadata": {},
   "outputs": [
    {
     "data": {
      "text/html": [
       "<div>\n",
       "<style scoped>\n",
       "    .dataframe tbody tr th:only-of-type {\n",
       "        vertical-align: middle;\n",
       "    }\n",
       "\n",
       "    .dataframe tbody tr th {\n",
       "        vertical-align: top;\n",
       "    }\n",
       "\n",
       "    .dataframe thead th {\n",
       "        text-align: right;\n",
       "    }\n",
       "</style>\n",
       "<table border=\"1\" class=\"dataframe\">\n",
       "  <thead>\n",
       "    <tr style=\"text-align: right;\">\n",
       "      <th></th>\n",
       "      <th>App</th>\n",
       "      <th>Package</th>\n",
       "      <th>Category</th>\n",
       "      <th>Description</th>\n",
       "      <th>Rating</th>\n",
       "      <th>Number of ratings</th>\n",
       "      <th>Price</th>\n",
       "      <th>Related apps</th>\n",
       "      <th>Dangerous permissions count</th>\n",
       "      <th>Safe permissions count</th>\n",
       "      <th>...</th>\n",
       "      <th>Your personal information : read Browser's history and bookmarks (D)</th>\n",
       "      <th>Your personal information : read calendar events (D)</th>\n",
       "      <th>Your personal information : read contact data (D)</th>\n",
       "      <th>Your personal information : read sensitive log data (D)</th>\n",
       "      <th>Your personal information : read user defined dictionary (D)</th>\n",
       "      <th>Your personal information : retrieve system internal state (S)</th>\n",
       "      <th>Your personal information : set alarm in alarm clock (S)</th>\n",
       "      <th>Your personal information : write Browser's history and bookmarks (D)</th>\n",
       "      <th>Your personal information : write contact data (D)</th>\n",
       "      <th>Your personal information : write to user defined dictionary (S)</th>\n",
       "    </tr>\n",
       "  </thead>\n",
       "  <tbody>\n",
       "    <tr>\n",
       "      <th>0</th>\n",
       "      <td>Google Maps</td>\n",
       "      <td>com.google.android.apps.maps</td>\n",
       "      <td>Travel &amp; Local</td>\n",
       "      <td>Download the latest release of Google Maps, an...</td>\n",
       "      <td>4.4</td>\n",
       "      <td>1438259</td>\n",
       "      <td>$0.00</td>\n",
       "      <td>{com.jsdfproductions.ctatrackerpro, com.alk.co...</td>\n",
       "      <td>17.0</td>\n",
       "      <td>8</td>\n",
       "      <td>...</td>\n",
       "      <td>0</td>\n",
       "      <td>0</td>\n",
       "      <td>1</td>\n",
       "      <td>0</td>\n",
       "      <td>0</td>\n",
       "      <td>0</td>\n",
       "      <td>0</td>\n",
       "      <td>0</td>\n",
       "      <td>1</td>\n",
       "      <td>0</td>\n",
       "    </tr>\n",
       "    <tr>\n",
       "      <th>1</th>\n",
       "      <td>Snowfall Live Wallpaper</td>\n",
       "      <td>fishnoodle.snowfall_free</td>\n",
       "      <td>Personalization</td>\n",
       "      <td>Snowfall Live Wallpaper: Wintertime on your ho...</td>\n",
       "      <td>4.3</td>\n",
       "      <td>18147</td>\n",
       "      <td>$0.00</td>\n",
       "      <td>{colfore.wallpaper.snowfree, com.tabsoft.wallp...</td>\n",
       "      <td>0.0</td>\n",
       "      <td>0</td>\n",
       "      <td>...</td>\n",
       "      <td>0</td>\n",
       "      <td>0</td>\n",
       "      <td>0</td>\n",
       "      <td>0</td>\n",
       "      <td>0</td>\n",
       "      <td>0</td>\n",
       "      <td>0</td>\n",
       "      <td>0</td>\n",
       "      <td>0</td>\n",
       "      <td>0</td>\n",
       "    </tr>\n",
       "    <tr>\n",
       "      <th>2</th>\n",
       "      <td>Aquarium Live Wallpaper</td>\n",
       "      <td>fishnoodle.aquarium_free</td>\n",
       "      <td>Personalization</td>\n",
       "      <td>A beautiful tropical fish tank live wallpaper!...</td>\n",
       "      <td>4.1</td>\n",
       "      <td>62145</td>\n",
       "      <td>$0.00</td>\n",
       "      <td>{com.convisual.lwp.fishometerlite, com.accessl...</td>\n",
       "      <td>0.0</td>\n",
       "      <td>0</td>\n",
       "      <td>...</td>\n",
       "      <td>0</td>\n",
       "      <td>0</td>\n",
       "      <td>0</td>\n",
       "      <td>0</td>\n",
       "      <td>0</td>\n",
       "      <td>0</td>\n",
       "      <td>0</td>\n",
       "      <td>0</td>\n",
       "      <td>0</td>\n",
       "      <td>0</td>\n",
       "    </tr>\n",
       "  </tbody>\n",
       "</table>\n",
       "<p>3 rows × 183 columns</p>\n",
       "</div>"
      ],
      "text/plain": [
       "                       App                       Package         Category  \\\n",
       "0              Google Maps  com.google.android.apps.maps   Travel & Local   \n",
       "1  Snowfall Live Wallpaper      fishnoodle.snowfall_free  Personalization   \n",
       "2  Aquarium Live Wallpaper      fishnoodle.aquarium_free  Personalization   \n",
       "\n",
       "                                         Description  Rating  \\\n",
       "0  Download the latest release of Google Maps, an...     4.4   \n",
       "1  Snowfall Live Wallpaper: Wintertime on your ho...     4.3   \n",
       "2  A beautiful tropical fish tank live wallpaper!...     4.1   \n",
       "\n",
       "   Number of ratings  Price  \\\n",
       "0            1438259  $0.00   \n",
       "1              18147  $0.00   \n",
       "2              62145  $0.00   \n",
       "\n",
       "                                        Related apps  \\\n",
       "0  {com.jsdfproductions.ctatrackerpro, com.alk.co...   \n",
       "1  {colfore.wallpaper.snowfree, com.tabsoft.wallp...   \n",
       "2  {com.convisual.lwp.fishometerlite, com.accessl...   \n",
       "\n",
       "   Dangerous permissions count  Safe permissions count  \\\n",
       "0                         17.0                       8   \n",
       "1                          0.0                       0   \n",
       "2                          0.0                       0   \n",
       "\n",
       "                                 ...                                 \\\n",
       "0                                ...                                  \n",
       "1                                ...                                  \n",
       "2                                ...                                  \n",
       "\n",
       "   Your personal information : read Browser's history and bookmarks (D)  \\\n",
       "0                                                  0                      \n",
       "1                                                  0                      \n",
       "2                                                  0                      \n",
       "\n",
       "   Your personal information : read calendar events (D)  \\\n",
       "0                                                  0      \n",
       "1                                                  0      \n",
       "2                                                  0      \n",
       "\n",
       "   Your personal information : read contact data (D)  \\\n",
       "0                                                  1   \n",
       "1                                                  0   \n",
       "2                                                  0   \n",
       "\n",
       "   Your personal information : read sensitive log data (D)  \\\n",
       "0                                                  0         \n",
       "1                                                  0         \n",
       "2                                                  0         \n",
       "\n",
       "   Your personal information : read user defined dictionary (D)  \\\n",
       "0                                                  0              \n",
       "1                                                  0              \n",
       "2                                                  0              \n",
       "\n",
       "   Your personal information : retrieve system internal state (S)  \\\n",
       "0                                                  0                \n",
       "1                                                  0                \n",
       "2                                                  0                \n",
       "\n",
       "   Your personal information : set alarm in alarm clock (S)  \\\n",
       "0                                                  0          \n",
       "1                                                  0          \n",
       "2                                                  0          \n",
       "\n",
       "   Your personal information : write Browser's history and bookmarks (D)  \\\n",
       "0                                                  0                       \n",
       "1                                                  0                       \n",
       "2                                                  0                       \n",
       "\n",
       "   Your personal information : write contact data (D)  \\\n",
       "0                                                  1    \n",
       "1                                                  0    \n",
       "2                                                  0    \n",
       "\n",
       "   Your personal information : write to user defined dictionary (S)  \n",
       "0                                                  0                 \n",
       "1                                                  0                 \n",
       "2                                                  0                 \n",
       "\n",
       "[3 rows x 183 columns]"
      ]
     },
     "execution_count": 140,
     "metadata": {},
     "output_type": "execute_result"
    }
   ],
   "source": [
    "df.head(n=3)"
   ]
  },
  {
   "cell_type": "markdown",
   "metadata": {},
   "source": [
    "### Part B: Convert each app into a \"document\" \n",
    "\n",
    "The code below does the following:\n",
    "\n",
    "   * Filter out all the columns except the permission columns.\n",
    "   * Convert this dataframe into a numpy matrix.\n",
    "\n",
    "There are thus 180295 apps (documents) and 173 permissions (words).\n",
    "\n",
    "   - `X` is the \"document\" or \"word-frequency\" matrix.\n",
    "   - `permission_columns` contains the words ordered by their column index in X.\n",
    "   - `app_names` contains the application names ordered by their row index in X.\n",
    "   - `app_ratings` contains the *number* of application ratings (not the ratings themselves)."
   ]
  },
  {
   "cell_type": "code",
   "execution_count": 141,
   "metadata": {},
   "outputs": [
    {
     "name": "stderr",
     "output_type": "stream",
     "text": [
      "C:\\Users\\Darshan\\Miniconda3\\envs\\uda\\lib\\site-packages\\ipykernel_launcher.py:5: FutureWarning: Method .as_matrix will be removed in a future version. Use .values instead.\n",
      "  \"\"\"\n"
     ]
    }
   ],
   "source": [
    "permission_columns = list(df.columns[10:])\n",
    "app_names = list(df[\"App\"])\n",
    "app_ratings = np.array(df[\"Number of ratings\"])\n",
    "df_perms = df[permission_columns]\n",
    "X = df_perms.as_matrix()\n",
    "del df # uncomment to free up RAM\n",
    "del df_perms # uncomment to free up RAM"
   ]
  },
  {
   "cell_type": "code",
   "execution_count": null,
   "metadata": {},
   "outputs": [],
   "source": []
  },
  {
   "cell_type": "markdown",
   "metadata": {},
   "source": [
    "### Part C: Downweight \"stop-words\" \n",
    "\n",
    "There are some permissions requested by almost all applications (like \"INTERNET\"), they are similar to stop-words (\"the\", \"and\", etc.) in natural language. We can downweight them by TF-IDF normalization.\n",
    "\n",
    "   * Use the `TfidfTransformer` class in `scikit-learn` to transform X."
   ]
  },
  {
   "cell_type": "code",
   "execution_count": 142,
   "metadata": {},
   "outputs": [],
   "source": [
    "from sklearn.feature_extraction.text import TfidfTransformer"
   ]
  },
  {
   "cell_type": "code",
   "execution_count": 143,
   "metadata": {},
   "outputs": [],
   "source": [
    "tf_transform = TfidfTransformer()"
   ]
  },
  {
   "cell_type": "code",
   "execution_count": 144,
   "metadata": {},
   "outputs": [],
   "source": [
    "#Document matrix\n",
    "X = tf_transform.fit_transform(X)"
   ]
  },
  {
   "cell_type": "code",
   "execution_count": 145,
   "metadata": {},
   "outputs": [
    {
     "data": {
      "text/plain": [
       "(180295, 173)"
      ]
     },
     "execution_count": 145,
     "metadata": {},
     "output_type": "execute_result"
    }
   ],
   "source": [
    "X.shape"
   ]
  },
  {
   "cell_type": "markdown",
   "metadata": {},
   "source": [
    "### Part D: Discover 10 \"topics\" \n",
    "\n",
    "   * Using the `LatentDirichletAllocation` class in `scikit-learn` to fit 10 topics to the data.\n",
    "   * Use 10 max iterations, set `n_jobs=-1` to use all cores on your machine (if it helps)."
   ]
  },
  {
   "cell_type": "code",
   "execution_count": 205,
   "metadata": {},
   "outputs": [
    {
     "name": "stdout",
     "output_type": "stream",
     "text": [
      "Wall time: 7min 54s\n"
     ]
    }
   ],
   "source": [
    "%%time\n",
    "num_topics = 10\n",
    "from sklearn.decomposition import LatentDirichletAllocation\n",
    "lda = LatentDirichletAllocation(n_components=num_topics,learning_method='online',random_state=0,n_jobs=-1,max_iter=10)\n",
    "lda.fit(X)"
   ]
  },
  {
   "cell_type": "code",
   "execution_count": 206,
   "metadata": {},
   "outputs": [
    {
     "data": {
      "text/plain": [
       "(10, 173)"
      ]
     },
     "execution_count": 206,
     "metadata": {},
     "output_type": "execute_result"
    }
   ],
   "source": [
    "# 10 topics 173 permissions\n",
    "lda.components_.shape"
   ]
  },
  {
   "cell_type": "code",
   "execution_count": 207,
   "metadata": {},
   "outputs": [],
   "source": [
    "# Finding how closely a word is related to a topic\n",
    "topic_word_dist = np.array(np.array([topic_word_pseudocounts / np.sum(topic_word_pseudocounts)\n",
    "                                     for topic_word_pseudocounts in lda.components_]))"
   ]
  },
  {
   "cell_type": "code",
   "execution_count": 208,
   "metadata": {},
   "outputs": [
    {
     "data": {
      "text/plain": [
       "(10, 173)"
      ]
     },
     "execution_count": 208,
     "metadata": {},
     "output_type": "execute_result"
    }
   ],
   "source": [
    "topic_word_dist.shape"
   ]
  },
  {
   "cell_type": "markdown",
   "metadata": {},
   "source": [
    "Now each app can be viewed as a distribution over these 10 topics, and each topic is a distribution over all the permissions in the data."
   ]
  },
  {
   "cell_type": "markdown",
   "metadata": {},
   "source": [
    "### Part E: List the top 10 \"words\" in each topic \n"
   ]
  },
  {
   "cell_type": "code",
   "execution_count": 209,
   "metadata": {},
   "outputs": [
    {
     "name": "stdout",
     "output_type": "stream",
     "text": [
      "Displaying the top 10 words per topic and their probabilities within the topic...\n",
      "\n",
      "[Topic 0]\n",
      "Your location : coarse (network-based) location (D) : 0.2650113909379571\n",
      "Your location : fine (GPS) location (D) : 0.24884250084831744\n",
      "Network communication : full Internet access (D) : 0.15891830773683577\n",
      "Network communication : view network state (S) : 0.1029139115913022\n",
      "Phone calls : read phone state and identity (D) : 0.07956427969517774\n",
      "Storage : modify/delete USB storage contents modify/delete SD card contents (D) : 0.06699740731042043\n",
      "Hardware controls : record audio (D) : 0.0562982976974197\n",
      "Your location : access extra location provider commands (S) : 0.019643429446526015\n",
      "Default : permission to install a location provider (S) : 0.0013120341377633722\n",
      "Services that cost you money : directly call phone numbers (D) : 3.0399298853685608e-06\n",
      "\n",
      "[Topic 1]\n",
      "Hardware controls : control vibrator (S) : 0.31773837944292915\n",
      "System tools : prevent device from sleeping (D) : 0.3053194283998832\n",
      "Network communication : full Internet access (D) : 0.15109949809878173\n",
      "Storage : modify/delete USB storage contents modify/delete SD card contents (D) : 0.11484601696332677\n",
      "Network communication : view network state (S) : 0.1025564636455895\n",
      "System tools : allow Wi-Fi Multicast reception (D) : 0.007769132146610595\n",
      "Phone calls : read phone state and identity (D) : 4.018993069692721e-06\n",
      "Default : modify/delete USB storage contents modify/delete SD card contents (S) : 4.018947976752937e-06\n",
      "System tools : automatically start at boot (S) : 4.018713701557062e-06\n",
      "Your location : coarse (network-based) location (D) : 4.0186364832798235e-06\n",
      "\n",
      "[Topic 2]\n",
      "Storage : modify/delete USB storage contents modify/delete SD card contents (D) : 0.7293331431492348\n",
      "Network communication : full Internet access (D) : 0.1706640738690971\n",
      "System tools : modify global system settings (D) : 0.09882997133586588\n",
      "Network communication : download files without notification (S) : 6.904501965986546e-06\n",
      "Network communication : view network state (S) : 6.900025127042042e-06\n",
      "System tools : change your UI settings (D) : 6.899317471629196e-06\n",
      "Phone calls : read phone state and identity (D) : 6.8992506160107986e-06\n",
      "Network communication : view Wi-Fi state (S) : 6.899088717025903e-06\n",
      "System tools : prevent device from sleeping (D) : 6.898977685217836e-06\n",
      "Hardware controls : change your audio settings (D) : 6.89897239997487e-06\n",
      "\n",
      "[Topic 3]\n",
      "System tools : automatically start at boot (S) : 0.13819285650157748\n",
      "Your personal information : read contact data (D) : 0.08381271534207534\n",
      "Your location : coarse (network-based) location (D) : 0.07732608719146253\n",
      "Phone calls : read phone state and identity (D) : 0.0717646656408787\n",
      "Your location : fine (GPS) location (D) : 0.0702519432563891\n",
      "Services that cost you money : send SMS messages (D) : 0.0691652176724468\n",
      "Network communication : full Internet access (D) : 0.06792118720225315\n",
      "Hardware controls : control vibrator (S) : 0.06472128025450265\n",
      "Network communication : view network state (S) : 0.06043785598835027\n",
      "Your location : mock location sources for testing (D) : 0.04939708788508115\n",
      "\n",
      "[Topic 4]\n",
      "System tools : set wallpaper (S) : 0.7647092335305912\n",
      "Hardware controls : change your audio settings (D) : 0.08331445729677583\n",
      "System tools : send sticky broadcast (S) : 0.07425480622167091\n",
      "Default : change screen orientation (S) : 0.03320527888582188\n",
      "Default : delete other applications' caches (S) : 0.01676820095701702\n",
      "Default : bind to an input method (S) : 0.00721921814042533\n",
      "Default : Access download manager. (S) : 0.004665638920455403\n",
      "Default : record what you type and actions you take (S) : 0.003047973046913062\n",
      "System tools : set time zone (D) : 0.00219426808372668\n",
      "System tools : modify global animation speed (D) : 0.00209114506186613\n",
      "\n",
      "[Topic 5]\n",
      "Network communication : full Internet access (D) : 0.6748499787624138\n",
      "Network communication : view network state (S) : 0.32473054598349654\n",
      "Storage : modify/delete USB storage contents modify/delete SD card contents (D) : 2.4531466796660867e-06\n",
      "System tools : set wallpaper (S) : 2.453090366645256e-06\n",
      "Default : coarse (network-based) location (S) : 2.4530838325317072e-06\n",
      "Services that cost you money : directly call phone numbers (D) : 2.4530836027975555e-06\n",
      "System tools : modify global system settings (D) : 2.453077892773242e-06\n",
      "Default : Access download manager. (S) : 2.453076749912193e-06\n",
      "System tools : automatically start at boot (S) : 2.4530739213608166e-06\n",
      "System tools : modify global animation speed (D) : 2.453073800100155e-06\n",
      "\n",
      "[Topic 6]\n",
      "System tools : retrieve running applications (D) : 0.20722420336106592\n",
      "Phone calls : read phone state and identity (D) : 0.1053334659775993\n",
      "System tools : mount and unmount filesystems (D) : 0.09862042913738583\n",
      "Storage : modify/delete USB storage contents modify/delete SD card contents (D) : 0.09141281808125648\n",
      "System tools : kill background processes (S) : 0.08960439289970078\n",
      "Network communication : view network state (S) : 0.08839615737283531\n",
      "Network communication : full Internet access (D) : 0.08354661345645524\n",
      "Your personal information : read sensitive log data (D) : 0.05753895533028881\n",
      "Default : directly install applications (S) : 0.044841029586629964\n",
      "System tools : prevent device from sleeping (D) : 0.033117383429814504\n",
      "\n",
      "[Topic 7]\n",
      "Phone calls : read phone state and identity (D) : 0.3777170409957522\n",
      "Network communication : view Wi-Fi state (S) : 0.2251577033616462\n",
      "Network communication : view network state (S) : 0.20958006638876597\n",
      "Network communication : full Internet access (D) : 0.18644853358073463\n",
      "Default : force application to close (S) : 0.00029528912218999636\n",
      "Storage : modify/delete USB storage contents modify/delete SD card contents (D) : 4.77135504964635e-06\n",
      "Services that cost you money : directly call phone numbers (D) : 4.770517000746589e-06\n",
      "System tools : prevent device from sleeping (D) : 4.770395037727515e-06\n",
      "Hardware controls : control vibrator (S) : 4.770283599420082e-06\n",
      "Development tools : make all background applications close (D) : 4.77027937006076e-06\n",
      "\n",
      "[Topic 8]\n",
      "Hardware controls : take pictures and videos (D) : 0.24233070351284444\n",
      "Storage : modify/delete USB storage contents modify/delete SD card contents (D) : 0.08609194017005918\n",
      "System tools : change Wi-Fi state (D) : 0.0711389531206706\n",
      "Network communication : view Wi-Fi state (S) : 0.07064288398434122\n",
      "Network communication : full Internet access (D) : 0.054992951298595626\n",
      "Network communication : view network state (S) : 0.051860100791858196\n",
      "Hardware controls : control flashlight (S) : 0.05005729636247766\n",
      "System tools : prevent device from sleeping (D) : 0.05004254026872307\n",
      "Network communication : create Bluetooth connections (D) : 0.04769055245975987\n",
      "System tools : change network connectivity (D) : 0.0385166913647192\n",
      "\n",
      "[Topic 9]\n",
      "Services that cost you money : directly call phone numbers (D) : 0.09618780319266665\n",
      "Network communication : receive data from Internet (S) : 0.05280890935926861\n",
      "Your location : fine (GPS) location (D) : 0.05131020346814477\n",
      "System tools : prevent device from sleeping (D) : 0.05110289323830917\n",
      "Network communication : view network state (S) : 0.05099088505124285\n",
      "Phone calls : read phone state and identity (D) : 0.05094764831181817\n",
      "Network communication : full Internet access (D) : 0.050426896312557826\n",
      "Your accounts : discover known accounts (S) : 0.046355321689217084\n",
      "Storage : modify/delete USB storage contents modify/delete SD card contents (D) : 0.04526035621718651\n",
      "System tools : automatically start at boot (S) : 0.039372372478174454\n",
      "\n"
     ]
    }
   ],
   "source": [
    "#Printing top 10 words in each topic\n",
    "num_top_words = 10\n",
    "\n",
    "print('Displaying the top %d words per topic and their probabilities within the topic...' % num_top_words)\n",
    "print()\n",
    "\n",
    "for topic_idx in range(num_topics):\n",
    "    print('[Topic ', topic_idx, ']', sep='')\n",
    "    sort_indices = np.argsort(topic_word_dist[topic_idx])[::-1]\n",
    "    for rank in range(num_top_words):\n",
    "        word_idx = sort_indices[rank]\n",
    "        print(permission_columns[word_idx], ':', topic_word_dist[topic_idx, word_idx])\n",
    "    print()"
   ]
  },
  {
   "cell_type": "markdown",
   "metadata": {},
   "source": [
    "\n",
    "##### Topic 1 -> Majority of the top words are related to network so we can say that this deals with an app that mainly based on network/communication\n",
    "\n",
    "##### Topic 2 -> Storage : modify/delete USB storage contents modify/delete SD card contents (D) : 0.7293331431492348 . Deals with storing a lot of information\n",
    "\n",
    "##### Topic 3 -> App that starts on boot and majorly deals with reading contact information \n",
    "\n",
    "##### Topic 4 -> System tools : set wallpaper (S) : 0.748538 (Setting the wallpaper\n",
    "\n",
    "##### Topic 5 -> Network communication : full Internet access (D) : 0.6748499787624138 Deals with internet and communication\n",
    "            \n",
    "##### Topic 6 -> Check the state of the running applications and possibly store some information related to it\n",
    "##### Topic 7 -> Phone Calls and communication\n",
    "##### Topic 8 -> Camera maybe possibly dealing with pictures and videos\n",
    "##### Topic 9 -> Payment related application\n"
   ]
  },
  {
   "cell_type": "markdown",
   "metadata": {},
   "source": [
    "### Part F: For each topic, listing the top 3 apps with at least 100000 ratings having the highest probability assigned to that topic \n",
    "\n",
    "   - This further helps us understand what the topics actually mean.\n",
    "   - However, the data is noisy and this exercise may result in listing a bunch of obscure apps.\n",
    "   - Hence, filtering out all apps with less than 100000 ratings helps."
   ]
  },
  {
   "cell_type": "code",
   "execution_count": 210,
   "metadata": {},
   "outputs": [
    {
     "data": {
      "text/plain": [
       "(10, 173)"
      ]
     },
     "execution_count": 210,
     "metadata": {},
     "output_type": "execute_result"
    }
   ],
   "source": [
    "topic_word_dist.shape"
   ]
  },
  {
   "cell_type": "code",
   "execution_count": 211,
   "metadata": {},
   "outputs": [],
   "source": [
    "from operator import itemgetter"
   ]
  },
  {
   "cell_type": "code",
   "execution_count": 212,
   "metadata": {},
   "outputs": [],
   "source": [
    "apps = dict(zip(app_names,app_ratings))\n",
    "sorted_apps = sorted(apps.items(),key=itemgetter(1),reverse=True)"
   ]
  },
  {
   "cell_type": "code",
   "execution_count": 213,
   "metadata": {},
   "outputs": [
    {
     "data": {
      "text/plain": [
       "(180295, 173)"
      ]
     },
     "execution_count": 213,
     "metadata": {},
     "output_type": "execute_result"
    }
   ],
   "source": [
    "X.shape"
   ]
  },
  {
   "cell_type": "code",
   "execution_count": 204,
   "metadata": {},
   "outputs": [
    {
     "data": {
      "text/plain": [
       "(10, 173)"
      ]
     },
     "execution_count": 204,
     "metadata": {},
     "output_type": "execute_result"
    }
   ],
   "source": [
    "###\n",
    "lda.components_[]"
   ]
  },
  {
   "cell_type": "code",
   "execution_count": 220,
   "metadata": {},
   "outputs": [],
   "source": [
    "#Filtering the app names\n",
    "filtered = [app_names[i] for i in range(len(app_names)) if app_ratings[i]>100000]\n",
    "filtered_rating = [app_ratings[i] for i in range(len(app_ratings)) if app_ratings[i]>100000]"
   ]
  },
  {
   "cell_type": "code",
   "execution_count": 221,
   "metadata": {},
   "outputs": [
    {
     "data": {
      "text/plain": [
       "LatentDirichletAllocation(batch_size=128, doc_topic_prior=None,\n",
       "             evaluate_every=-1, learning_decay=0.7,\n",
       "             learning_method='online', learning_offset=10.0,\n",
       "             max_doc_update_iter=100, max_iter=10, mean_change_tol=0.001,\n",
       "             n_components=10, n_jobs=None, n_topics=None, perp_tol=0.1,\n",
       "             random_state=0, topic_word_prior=None,\n",
       "             total_samples=1000000.0, verbose=0)"
      ]
     },
     "execution_count": 221,
     "metadata": {},
     "output_type": "execute_result"
    }
   ],
   "source": [
    "#Filtering the document matrix\n",
    "Y = X[app_ratings>100000,:]\n",
    "Y.T.shape\n",
    "lda1 = LatentDirichletAllocation(n_components=num_topics,learning_method='online',random_state=0,max_iter=10)\n",
    "lda1.fit(Y.T)"
   ]
  },
  {
   "cell_type": "code",
   "execution_count": 222,
   "metadata": {},
   "outputs": [
    {
     "data": {
      "text/plain": [
       "(10, 95)"
      ]
     },
     "execution_count": 222,
     "metadata": {},
     "output_type": "execute_result"
    }
   ],
   "source": [
    "lda1.components_.shape"
   ]
  },
  {
   "cell_type": "code",
   "execution_count": 294,
   "metadata": {},
   "outputs": [],
   "source": [
    "topic_app_dist = np.array(np.array([topic_app_pseudocounts / np.sum(topic_app_pseudocounts)\n",
    "                                     for topic_app_pseudocounts in lda1.components_]))"
   ]
  },
  {
   "cell_type": "code",
   "execution_count": 295,
   "metadata": {},
   "outputs": [
    {
     "name": "stdout",
     "output_type": "stream",
     "text": [
      "Displaying the top 3 apps per topic and their probability within the topic...\n",
      "\n",
      "[Topic 0]\n",
      "1 Lookout Security & Antivirus 0.057214127942121155\n",
      "2 Antivirus Free 0.05529318491724246\n",
      "3 Pandora?? internet radio 0.04497688352492906\n",
      "\n",
      "[Topic 1]\n",
      "1 Dictionary.com 0.023284872087233236\n",
      "2 Air Control Lite 0.023240115404422817\n",
      "3 Paper Toss 0.02264265439632856\n",
      "\n",
      "[Topic 2]\n",
      "1 Google Translate 0.06039547662508961\n",
      "2 Tap Fish 0.05793094508544937\n",
      "3 Horoscope 0.048123546607280354\n",
      "\n",
      "[Topic 3]\n",
      "1 The Weather Channel 0.011407181709433766\n",
      "2 Advanced Task Killer 0.011229138794677424\n",
      "3 Bubble Blast 2 0.011225516667020057\n",
      "\n",
      "[Topic 4]\n",
      "1 YouTube 0.09418424130708102\n",
      "2 Yahoo! Mail 0.07289426525267302\n",
      "3 WhatsApp Messenger 0.06895883781751629\n",
      "\n",
      "[Topic 5]\n",
      "1 Gmail 0.14956289478300488\n",
      "2 LauncherPro 0.07196831950730181\n",
      "3 ColorNote Notepad Notes 0.010100895101643654\n",
      "\n",
      "[Topic 6]\n",
      "1 Opera Mini web browser 0.07545844024742207\n",
      "2 Skyfire Web Browser 4.0 0.051994952260500146\n",
      "3 Dolphin Browser™ HD 0.051363857347605624\n",
      "\n",
      "[Topic 7]\n",
      "1 Handcent SMS 0.055636571543857094\n",
      "2 chompSMS 0.054372471533491805\n",
      "3 GO SMS Pro 0.05024686055039129\n",
      "\n",
      "[Topic 8]\n",
      "1 Meet New People 0.034656572717777515\n",
      "2 Movies 0.03414311458888884\n",
      "3 Evernote 0.02721049764960023\n",
      "\n",
      "[Topic 9]\n",
      "1 LauncherPro 0.05346822907074568\n",
      "2 Ringdroid 0.04790053361441195\n",
      "3 Backgrounds HD Wallpapers 0.044131365410444115\n",
      "\n"
     ]
    }
   ],
   "source": [
    "#Printing top 3 apps with ratings greater than 100000\n",
    "num_top_apps = 3\n",
    "\n",
    "print('Displaying the top %d apps per topic and their probability within the topic...' % num_top_apps)\n",
    "print()\n",
    "\n",
    "for topic_idx in range(num_topics):\n",
    "    print('[Topic ', topic_idx, ']', sep='')\n",
    "    sort_indices = np.argsort(topic_app_dist[topic_idx])[::-1]\n",
    "    for rank in range(num_top_apps):\n",
    "        app_idx = sort_indices[rank]\n",
    "        print(rank+1,filtered[app_idx],topic_app_dist[topic_idx,app_idx])\n",
    "    print()"
   ]
  },
  {
   "cell_type": "code",
   "execution_count": 170,
   "metadata": {},
   "outputs": [
    {
     "data": {
      "text/plain": [
       "95"
      ]
     },
     "execution_count": 170,
     "metadata": {},
     "output_type": "execute_result"
    }
   ],
   "source": [
    "len(sort_indices)"
   ]
  },
  {
   "cell_type": "markdown",
   "metadata": {},
   "source": [
    "### Part G: Visualize the document-topic proportion matrix in 2-D using t-SNE \n",
    "\n",
    "\n",
    "Clusters in the t-SNE plot indicate groups of apps that have similar topics."
   ]
  },
  {
   "cell_type": "code",
   "execution_count": 277,
   "metadata": {},
   "outputs": [
    {
     "data": {
      "text/plain": [
       "(180295, 173)"
      ]
     },
     "execution_count": 277,
     "metadata": {},
     "output_type": "execute_result"
    }
   ],
   "source": [
    "X.shape"
   ]
  },
  {
   "cell_type": "code",
   "execution_count": 281,
   "metadata": {},
   "outputs": [],
   "source": [
    "lda2 = LatentDirichletAllocation(n_components=10,learning_method='online',n_jobs=-1,max_iter=10,random_state=0)\n",
    "dummy = lda2.fit_transform(X)"
   ]
  },
  {
   "cell_type": "code",
   "execution_count": 282,
   "metadata": {},
   "outputs": [
    {
     "data": {
      "text/plain": [
       "(180295, 10)"
      ]
     },
     "execution_count": 282,
     "metadata": {},
     "output_type": "execute_result"
    }
   ],
   "source": [
    "dummy.shape"
   ]
  },
  {
   "cell_type": "code",
   "execution_count": 280,
   "metadata": {},
   "outputs": [
    {
     "data": {
      "text/plain": [
       "(10, 173)"
      ]
     },
     "execution_count": 280,
     "metadata": {},
     "output_type": "execute_result"
    }
   ],
   "source": [
    "#lda2.components_.shape"
   ]
  },
  {
   "cell_type": "code",
   "execution_count": 296,
   "metadata": {},
   "outputs": [],
   "source": [
    "topic_app_dist = np.array(np.array([topic_app_pseudocounts / np.sum(topic_app_pseudocounts)\n",
    "                                     for topic_app_pseudocounts in dummy.T]))"
   ]
  },
  {
   "cell_type": "code",
   "execution_count": 297,
   "metadata": {},
   "outputs": [
    {
     "data": {
      "text/plain": [
       "(1802950,)"
      ]
     },
     "execution_count": 297,
     "metadata": {},
     "output_type": "execute_result"
    }
   ],
   "source": [
    "v = np.vstack([topic_app_dist[i] for i in range(10)])\n",
    "h = np.hstack([topic_app_dist[i] for i in range(10)])\n",
    "h.shape"
   ]
  },
  {
   "cell_type": "code",
   "execution_count": 298,
   "metadata": {},
   "outputs": [
    {
     "data": {
      "text/plain": [
       "(10, 180295)"
      ]
     },
     "execution_count": 298,
     "metadata": {},
     "output_type": "execute_result"
    }
   ],
   "source": [
    "topic_app_dist.shape"
   ]
  },
  {
   "cell_type": "code",
   "execution_count": 299,
   "metadata": {},
   "outputs": [],
   "source": [
    "test = np.argmax(topic_app_dist,axis=0)"
   ]
  },
  {
   "cell_type": "code",
   "execution_count": 300,
   "metadata": {},
   "outputs": [
    {
     "data": {
      "text/plain": [
       "180295"
      ]
     },
     "execution_count": 300,
     "metadata": {},
     "output_type": "execute_result"
    }
   ],
   "source": [
    "len(test)"
   ]
  },
  {
   "cell_type": "code",
   "execution_count": 334,
   "metadata": {},
   "outputs": [
    {
     "name": "stdout",
     "output_type": "stream",
     "text": [
      "Wall time: 0 ns\n"
     ]
    }
   ],
   "source": [
    "%%time\n",
    "from sklearn.manifold import TSNE\n",
    "tsne  = TSNE(n_components=2,random_state=0,learning_rate=400,angle=0.99,init='pca',perplexity=200)\n"
   ]
  },
  {
   "cell_type": "code",
   "execution_count": 337,
   "metadata": {},
   "outputs": [
    {
     "data": {
      "text/plain": [
       "(10000, 2)"
      ]
     },
     "execution_count": 337,
     "metadata": {},
     "output_type": "execute_result"
    }
   ],
   "source": [
    "data_fitted = tsne.fit_transform(v.T[:10000,:])\n",
    "data_fitted.shape"
   ]
  },
  {
   "cell_type": "code",
   "execution_count": null,
   "metadata": {},
   "outputs": [],
   "source": []
  },
  {
   "cell_type": "code",
   "execution_count": 341,
   "metadata": {},
   "outputs": [
    {
     "data": {
      "image/png": "[encoded data removed]",
      "text/plain": [
       "<Figure size 576x360 with 1 Axes>"
      ]
     },
     "metadata": {
      "needs_background": "light"
     },
     "output_type": "display_data"
    }
   ],
   "source": [
    "import seaborn as sns\n",
    "palette = np.array(sns.color_palette(\"hls\", 10))\n",
    "plt.figure(figsize=(8,5))\n",
    "#plt.scatter(data_fitted[test[:5000]==1,0],data_fitted[test[:5000]==1,1],cmap='Spectral')\n",
    "for i in range(10):\n",
    "     plt.plot(data_fitted[test[:10000]==i,0],data_fitted[test[:10000]==i,1],\"o\", label=\"Topic \" + str(i))\n",
    "plt.legend(bbox_to_anchor=(1,1))\n",
    "plt.title('Document topic proportion')\n",
    "plt.axis('equal')\n",
    "plt.show()"
   ]
  },
  {
   "cell_type": "code",
   "execution_count": null,
   "metadata": {},
   "outputs": [],
   "source": []
  },
  {
   "cell_type": "code",
   "execution_count": null,
   "metadata": {},
   "outputs": [],
   "source": []
  }
 ],
 "metadata": {
  "kernelspec": {
   "display_name": "Python 3",
   "language": "python",
   "name": "python3"
  },
  "language_info": {
   "codemirror_mode": {
    "name": "ipython",
    "version": 3
   },
   "file_extension": ".py",
   "mimetype": "text/x-python",
   "name": "python",
   "nbconvert_exporter": "python",
   "pygments_lexer": "ipython3",
   "version": "3.6.8"
  }
 },
 "nbformat": 4,
 "nbformat_minor": 2
}
